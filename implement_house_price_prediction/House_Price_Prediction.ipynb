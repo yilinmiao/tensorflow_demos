{
 "cells": [
  {
   "cell_type": "code",
   "execution_count": 2,
   "metadata": {
    "collapsed": true
   },
   "outputs": [],
   "source": [
    "import tensorflow as tf\n",
    "import numpy as np\n",
    "import math\n",
    "import matplotlib.pyplot as plt\n",
    "import matplotlib.animation as animation # import animation support"
   ]
  },
  {
   "cell_type": "code",
   "execution_count": 3,
   "metadata": {},
   "outputs": [
    {
     "data": {
      "image/png": "[encoded data removed]",
      "text/plain": [
       "<matplotlib.figure.Figure at 0x111fd7250>"
      ]
     },
     "metadata": {},
     "output_type": "display_data"
    }
   ],
   "source": [
    "# generation some house sizes between 1000 and 3500 (typical sq ft of houses)\n",
    "num_house = 160\n",
    "np.random.seed(42)\n",
    "house_size = np.random.randint(low=1000, high=3500, size=num_house)\n",
    "\n",
    "# Generate house prices from house size with a random noise added\n",
    "np.random.seed(42)\n",
    "house_price = house_size * 100.0 + np.random.randint(low=20000, high=70000, size=num_house)\n",
    "\n",
    "# Plot generated house and size\n",
    "plt.plot(house_size, house_price, \"bx\") # bx = blue x\n",
    "plt.ylabel(\"Price\")\n",
    "plt.xlabel(\"Size\")\n",
    "plt.show()"
   ]
  },
  {
   "cell_type": "code",
   "execution_count": 4,
   "metadata": {
    "collapsed": true
   },
   "outputs": [],
   "source": [
    "# you need to normalize values to prevent under/overflows.\n",
    "def normalize(array):\n",
    "    return (array - array.mean()) / array.std()"
   ]
  },
  {
   "cell_type": "code",
   "execution_count": 6,
   "metadata": {},
   "outputs": [],
   "source": [
    "# 1. Prepared Data\n",
    "# Define number of training samples. 0.7 = 70%. We can take the first 70% since the values are randomized\n",
    "num_train_samples = int(math.floor(num_house * 0.7))\n",
    "\n",
    "# Define training data\n",
    "train_house_size = np.asarray(house_size[:num_train_samples])\n",
    "train_price = np.asanyarray(house_price[:num_train_samples])\n",
    "\n",
    "train_house_size_norm = normalize(train_house_size)\n",
    "train_price_norm = normalize(train_price)\n",
    "\n",
    "# Define test data\n",
    "test_house_size = np.asarray(house_size[num_train_samples:])\n",
    "test_house_price = np.asanyarray(house_price[num_train_samples:])\n",
    "\n",
    "test_house_size_norm = normalize(test_house_size)\n",
    "test_house_price_norm = normalize(test_house_price)\n",
    "\n",
    "# Set up the TensorFlow placeholder that get updated as we descend down the gradient\n",
    "tf_house_size = tf.placeholder(tf.float32, name='house_size')\n",
    "tf_price = tf.placeholder(tf.float32, name='price')\n",
    "\n",
    "# Define the variables holding the size_factor and price we set during training.\n",
    "# We intialize them to some random values based on the normal distribution.\n",
    "tf_size_factor = tf.Variable(np.random.randn(), name='size_factor')\n",
    "tf_price_offset = tf.Variable(np.random.randn(), name='price_offset')"
   ]
  },
  {
   "cell_type": "code",
   "execution_count": 7,
   "metadata": {
    "collapsed": true
   },
   "outputs": [],
   "source": [
    "# 2. Inference\n",
    "# Define the operations for the predicting values\n",
    "# Notice, the use of the tensorflow add and multiply operations.\n",
    "# AND the tensorflow methods understand how to deal with\n",
    "# methods.\n",
    "tf_price_pred = tf.add(tf.multiply(tf_size_factor, tf_house_size), tf_price_offset)\n",
    "\n",
    "# 3. Loss Measurement\n",
    "# Define the Loss Fuction(how much error) - Mean squared error\n",
    "tf_cost = tf.reduce_sum(tf.pow(tf_price_pred - tf_price, 2)) /(2 * num_train_samples)\n",
    "\n",
    "# Optimizer learning rate. The size of the steps down the gradient\n",
    "learning_rate = 0.1\n",
    "\n",
    "# 4. Optimizer to Minimize Loss\n",
    "# Define a Gradient descent optimizer that will minimize the loss defined in the operation \"cost\"\n",
    "optimizer = tf.train.GradientDescentOptimizer(learning_rate).minimize(tf_cost)\n",
    "\n",
    "# Initializing the variables\n",
    "init = tf.global_variables_initializer()"
   ]
  },
  {
   "cell_type": "code",
   "execution_count": 8,
   "metadata": {},
   "outputs": [
    {
     "ename": "NameError",
     "evalue": "name 'ft_house_size' is not defined",
     "output_type": "error",
     "traceback": [
      "\u001b[0;31m---------------------------------------------------------------------------\u001b[0m",
      "\u001b[0;31mNameError\u001b[0m                                 Traceback (most recent call last)",
      "\u001b[0;32m<ipython-input-8-534de6e03ea3>\u001b[0m in \u001b[0;36m<module>\u001b[0;34m()\u001b[0m\n\u001b[1;32m     12\u001b[0m         \u001b[0;31m# Fit all training data\u001b[0m\u001b[0;34m\u001b[0m\u001b[0;34m\u001b[0m\u001b[0m\n\u001b[1;32m     13\u001b[0m         \u001b[0;32mfor\u001b[0m \u001b[0;34m(\u001b[0m\u001b[0mx\u001b[0m\u001b[0;34m,\u001b[0m \u001b[0my\u001b[0m\u001b[0;34m)\u001b[0m \u001b[0;32min\u001b[0m \u001b[0mzip\u001b[0m\u001b[0;34m(\u001b[0m\u001b[0mtrain_house_size_norm\u001b[0m\u001b[0;34m,\u001b[0m \u001b[0mtrain_price_norm\u001b[0m\u001b[0;34m)\u001b[0m\u001b[0;34m:\u001b[0m\u001b[0;34m\u001b[0m\u001b[0m\n\u001b[0;32m---> 14\u001b[0;31m             \u001b[0msess\u001b[0m\u001b[0;34m.\u001b[0m\u001b[0mrun\u001b[0m\u001b[0;34m(\u001b[0m\u001b[0moptimizer\u001b[0m\u001b[0;34m,\u001b[0m \u001b[0mfeed_dict\u001b[0m\u001b[0;34m=\u001b[0m\u001b[0;34m{\u001b[0m\u001b[0mft_house_size\u001b[0m\u001b[0;34m:\u001b[0m \u001b[0mx\u001b[0m\u001b[0;34m,\u001b[0m \u001b[0mtf_price\u001b[0m\u001b[0;34m:\u001b[0m \u001b[0my\u001b[0m\u001b[0;34m}\u001b[0m\u001b[0;34m)\u001b[0m\u001b[0;34m\u001b[0m\u001b[0m\n\u001b[0m\u001b[1;32m     15\u001b[0m \u001b[0;34m\u001b[0m\u001b[0m\n\u001b[1;32m     16\u001b[0m         \u001b[0;31m# Display current status\u001b[0m\u001b[0;34m\u001b[0m\u001b[0;34m\u001b[0m\u001b[0m\n",
      "\u001b[0;31mNameError\u001b[0m: name 'ft_house_size' is not defined"
     ]
    }
   ],
   "source": [
    "# Launch the graph in the session\n",
    "with tf.Session() as sess:\n",
    "    sess.run(init)\n",
    "\n",
    "    # set how often to display the training progress and number of training iterations\n",
    "    display_every = 2\n",
    "    num_training_iter = 50\n",
    "\n",
    "    # keep iterating the training data\n",
    "    for iteration in range(num_training_iter):\n",
    "\n",
    "        # Fit all training data\n",
    "        for (x, y) in zip(train_house_size_norm, train_price_norm):\n",
    "            sess.run(optimizer, feed_dict={tf_house_size: x, tf_price: y})\n",
    "\n",
    "        # Display current status\n",
    "        if (iteration + 1) % display_every == 0:\n",
    "            c = sess.run(tf_cost, feed_dict={tf_house_size: train_house_size_norm, tf_price: train_price_norm})\n",
    "            print(\"iteration #:\", '%04d' % (iteration + 1), \"cost=\", \"{:.9f}\".format(c), \\\n",
    "                \"size_factor=\", sess.run(tf_size_factor), \"price_offset=\", sess.run(tf_price_offset))         \n",
    "\n",
    "    print(\"Optimization Finished!\")\n",
    "    training_cost = sess.run(tf_cost, feed_dict={tf_house_size: train_house_size_norm, tf_price: train_price_norm})\n",
    "    print(\"Trained cost=\", training_cost, \"size_factor=\", sess.run(tf_size_factor), \"price_offset=\", sess.run(tf_price_offset), '\\n')\n",
    "\n",
    "    # Plot of the training and test data, and learned regression\n",
    "\n",
    "    # Get values used to normalized data so we can denormalize data back to its original scale\n",
    "    train_house_size_mean = train_house_size.mean()\n",
    "    train_house_size_std = train_house_size.std()\n",
    "\n",
    "    train_price_mean = train_price.mean()\n",
    "    train_price_std = train_price.std()\n",
    "\n",
    "    # Plot the graph\n",
    "    plt.rcParams[\"figure.figsize\"] = (10,8)\n",
    "    plt.figure()\n",
    "    plt.ylabel('Price')\n",
    "    plt.xlabel('Size (sq.ft)')\n",
    "    plt.plot(train_house_size, train_price, 'go', label='Training data')\n",
    "    plt.plot(test_house_size, test_house_price, 'mo', label='Testing data')\n",
    "    plt.plot(train_house_size_norm * train_house_size_std + train_house_size_mean,\n",
    "            (sess.run(tf_size_factor) * train_house_size_norm + sess.run(tf_price_offset)) * train_price_std + train_price_mean,\n",
    "            label='Learned Regression')\n",
    "\n",
    "    plt.legend(loc='upper left')\n",
    "    plt.show()"
   ]
  },
  {
   "cell_type": "code",
   "execution_count": null,
   "metadata": {
    "collapsed": true
   },
   "outputs": [],
   "source": []
  }
 ],
 "metadata": {
  "kernelspec": {
   "display_name": "Python 2",
   "language": "python",
   "name": "python2"
  },
  "language_info": {
   "codemirror_mode": {
    "name": "ipython",
    "version": 2
   },
   "file_extension": ".py",
   "mimetype": "text/x-python",
   "name": "python",
   "nbconvert_exporter": "python",
   "pygments_lexer": "ipython2",
   "version": "2.7.14"
  }
 },
 "nbformat": 4,
 "nbformat_minor": 2
}
